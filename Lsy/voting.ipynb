{
 "cells": [
  {
   "cell_type": "code",
   "execution_count": 1,
   "id": "f314af68-645f-49c6-864b-bab446cdcc76",
   "metadata": {},
   "outputs": [],
   "source": [
    "import matplotlib.pyplot as plot\n",
    "import seaborn as sns\n",
    "import matplotlib.pyplot as plt\n",
    "from sklearn import svm\n",
    "import numpy as np\n",
    "import pandas as pd\n",
    "from sklearn import preprocessing\n",
    "from pandas import DataFrame\n",
    "from sklearn.ensemble import RandomForestClassifier\n",
    "from sklearn.ensemble import ExtraTreesRegressor\n",
    "from sklearn.linear_model import LogisticRegression\n",
    "from sklearn.gaussian_process import GaussianProcessRegressor\n",
    "from sklearn.gaussian_process.kernels import RBF\n",
    "from sklearn.model_selection import KFold\n",
    "from sklearn.metrics import roc_curve\n",
    "from sklearn.metrics import confusion_matrix\n",
    "from gplearn import genetic\n",
    "from gplearn.genetic import SymbolicTransformer\n",
    "from sklearn.ensemble import RandomForestRegressor\n",
    "from sklearn.metrics import mean_squared_error\n",
    "from scipy.stats import pearsonr\n",
    "from matplotlib.ticker import MultipleLocator, FormatStrFormatter\n",
    "from sklearn.metrics import r2_score\n",
    "from sklearn.model_selection import cross_val_score\n",
    "from sklearn.model_selection import train_test_split\n",
    "from sklearn.preprocessing import StandardScaler\n",
    "from imblearn.over_sampling import RandomOverSampler, SMOTE\n",
    "from collections import Counter\n",
    "from sklearn.model_selection import train_test_split\n",
    "import sklearn.ensemble as ensemble  # ensemble learning: 集成学习\n",
    "from sklearn.model_selection import GridSearchCV\n",
    "import sklearn.metrics as metrics\n",
    "import matplotlib.pyplot as plt"
   ]
  },
  {
   "cell_type": "code",
   "execution_count": 2,
   "id": "c46b50e9-253a-4a52-8002-3bd554a0fad1",
   "metadata": {},
   "outputs": [],
   "source": [
    "dataset= r'out2 ccopy 2.csv'\n",
    "data=pd.DataFrame(pd.read_csv(dataset))"
   ]
  },
  {
   "cell_type": "code",
   "execution_count": 3,
   "id": "a170466f-bc97-4383-98da-020190281c68",
   "metadata": {},
   "outputs": [
    {
     "data": {
      "text/html": [
       "<div>\n",
       "<style scoped>\n",
       "    .dataframe tbody tr th:only-of-type {\n",
       "        vertical-align: middle;\n",
       "    }\n",
       "\n",
       "    .dataframe tbody tr th {\n",
       "        vertical-align: top;\n",
       "    }\n",
       "\n",
       "    .dataframe thead th {\n",
       "        text-align: right;\n",
       "    }\n",
       "</style>\n",
       "<table border=\"1\" class=\"dataframe\">\n",
       "  <thead>\n",
       "    <tr style=\"text-align: right;\">\n",
       "      <th></th>\n",
       "      <th>CH5N2</th>\n",
       "      <th>CH3NH3</th>\n",
       "      <th>Rb</th>\n",
       "      <th>Cs</th>\n",
       "      <th>Pb</th>\n",
       "      <th>Sn</th>\n",
       "      <th>I</th>\n",
       "      <th>Br</th>\n",
       "      <th>ETL density(g/cm3)</th>\n",
       "      <th>ETL Bandgap(eV)</th>\n",
       "      <th>ETL HOMO(eV)</th>\n",
       "      <th>ele Molecular Weight</th>\n",
       "      <th>glass Work function</th>\n",
       "      <th>PCE</th>\n",
       "    </tr>\n",
       "  </thead>\n",
       "  <tbody>\n",
       "    <tr>\n",
       "      <th>0</th>\n",
       "      <td>0.500</td>\n",
       "      <td>0.500</td>\n",
       "      <td>0.0</td>\n",
       "      <td>0.00</td>\n",
       "      <td>1.0</td>\n",
       "      <td>0.0</td>\n",
       "      <td>1.5</td>\n",
       "      <td>1.5</td>\n",
       "      <td>6.61</td>\n",
       "      <td>0.65</td>\n",
       "      <td>5.521</td>\n",
       "      <td>107.86800</td>\n",
       "      <td>4.50</td>\n",
       "      <td>20.50</td>\n",
       "    </tr>\n",
       "    <tr>\n",
       "      <th>1</th>\n",
       "      <td>0.200</td>\n",
       "      <td>0.400</td>\n",
       "      <td>0.0</td>\n",
       "      <td>0.40</td>\n",
       "      <td>1.0</td>\n",
       "      <td>0.0</td>\n",
       "      <td>1.5</td>\n",
       "      <td>0.0</td>\n",
       "      <td>3.62</td>\n",
       "      <td>2.68</td>\n",
       "      <td>1.367</td>\n",
       "      <td>107.86800</td>\n",
       "      <td>4.50</td>\n",
       "      <td>20.10</td>\n",
       "    </tr>\n",
       "    <tr>\n",
       "      <th>2</th>\n",
       "      <td>0.000</td>\n",
       "      <td>1.000</td>\n",
       "      <td>0.0</td>\n",
       "      <td>0.00</td>\n",
       "      <td>1.0</td>\n",
       "      <td>0.0</td>\n",
       "      <td>3.0</td>\n",
       "      <td>0.0</td>\n",
       "      <td>3.62</td>\n",
       "      <td>2.68</td>\n",
       "      <td>1.367</td>\n",
       "      <td>107.86800</td>\n",
       "      <td>4.50</td>\n",
       "      <td>19.04</td>\n",
       "    </tr>\n",
       "    <tr>\n",
       "      <th>3</th>\n",
       "      <td>0.000</td>\n",
       "      <td>1.000</td>\n",
       "      <td>0.0</td>\n",
       "      <td>0.00</td>\n",
       "      <td>1.0</td>\n",
       "      <td>0.0</td>\n",
       "      <td>3.0</td>\n",
       "      <td>0.0</td>\n",
       "      <td>5.44</td>\n",
       "      <td>0.72</td>\n",
       "      <td>0.840</td>\n",
       "      <td>107.86800</td>\n",
       "      <td>4.50</td>\n",
       "      <td>18.82</td>\n",
       "    </tr>\n",
       "    <tr>\n",
       "      <th>4</th>\n",
       "      <td>0.000</td>\n",
       "      <td>1.000</td>\n",
       "      <td>0.0</td>\n",
       "      <td>0.00</td>\n",
       "      <td>1.0</td>\n",
       "      <td>0.0</td>\n",
       "      <td>3.0</td>\n",
       "      <td>0.0</td>\n",
       "      <td>6.61</td>\n",
       "      <td>0.65</td>\n",
       "      <td>5.521</td>\n",
       "      <td>107.86800</td>\n",
       "      <td>4.50</td>\n",
       "      <td>18.34</td>\n",
       "    </tr>\n",
       "    <tr>\n",
       "      <th>...</th>\n",
       "      <td>...</td>\n",
       "      <td>...</td>\n",
       "      <td>...</td>\n",
       "      <td>...</td>\n",
       "      <td>...</td>\n",
       "      <td>...</td>\n",
       "      <td>...</td>\n",
       "      <td>...</td>\n",
       "      <td>...</td>\n",
       "      <td>...</td>\n",
       "      <td>...</td>\n",
       "      <td>...</td>\n",
       "      <td>...</td>\n",
       "      <td>...</td>\n",
       "    </tr>\n",
       "    <tr>\n",
       "      <th>73</th>\n",
       "      <td>0.000</td>\n",
       "      <td>1.000</td>\n",
       "      <td>0.0</td>\n",
       "      <td>0.00</td>\n",
       "      <td>1.0</td>\n",
       "      <td>0.0</td>\n",
       "      <td>1.5</td>\n",
       "      <td>0.0</td>\n",
       "      <td>3.62</td>\n",
       "      <td>2.68</td>\n",
       "      <td>1.367</td>\n",
       "      <td>196.96657</td>\n",
       "      <td>4.50</td>\n",
       "      <td>8.29</td>\n",
       "    </tr>\n",
       "    <tr>\n",
       "      <th>74</th>\n",
       "      <td>0.255</td>\n",
       "      <td>0.595</td>\n",
       "      <td>0.0</td>\n",
       "      <td>0.15</td>\n",
       "      <td>1.0</td>\n",
       "      <td>0.0</td>\n",
       "      <td>3.0</td>\n",
       "      <td>0.0</td>\n",
       "      <td>3.62</td>\n",
       "      <td>2.68</td>\n",
       "      <td>1.367</td>\n",
       "      <td>107.86800</td>\n",
       "      <td>4.50</td>\n",
       "      <td>17.60</td>\n",
       "    </tr>\n",
       "    <tr>\n",
       "      <th>75</th>\n",
       "      <td>0.850</td>\n",
       "      <td>0.000</td>\n",
       "      <td>0.0</td>\n",
       "      <td>0.15</td>\n",
       "      <td>1.0</td>\n",
       "      <td>0.0</td>\n",
       "      <td>3.0</td>\n",
       "      <td>0.0</td>\n",
       "      <td>3.62</td>\n",
       "      <td>2.68</td>\n",
       "      <td>1.367</td>\n",
       "      <td>107.86800</td>\n",
       "      <td>4.50</td>\n",
       "      <td>13.90</td>\n",
       "    </tr>\n",
       "    <tr>\n",
       "      <th>76</th>\n",
       "      <td>0.000</td>\n",
       "      <td>0.000</td>\n",
       "      <td>0.0</td>\n",
       "      <td>1.00</td>\n",
       "      <td>1.0</td>\n",
       "      <td>0.0</td>\n",
       "      <td>0.0</td>\n",
       "      <td>3.0</td>\n",
       "      <td>3.62</td>\n",
       "      <td>2.68</td>\n",
       "      <td>1.367</td>\n",
       "      <td>107.86800</td>\n",
       "      <td>4.57</td>\n",
       "      <td>7.93</td>\n",
       "    </tr>\n",
       "    <tr>\n",
       "      <th>77</th>\n",
       "      <td>0.000</td>\n",
       "      <td>0.000</td>\n",
       "      <td>0.0</td>\n",
       "      <td>1.00</td>\n",
       "      <td>1.0</td>\n",
       "      <td>0.0</td>\n",
       "      <td>0.0</td>\n",
       "      <td>3.0</td>\n",
       "      <td>3.62</td>\n",
       "      <td>2.68</td>\n",
       "      <td>1.367</td>\n",
       "      <td>107.86800</td>\n",
       "      <td>4.50</td>\n",
       "      <td>3.90</td>\n",
       "    </tr>\n",
       "  </tbody>\n",
       "</table>\n",
       "<p>78 rows × 14 columns</p>\n",
       "</div>"
      ],
      "text/plain": [
       "    CH5N2  CH3NH3   Rb    Cs   Pb   Sn    I   Br  ETL density(g/cm3)  \\\n",
       "0   0.500   0.500  0.0  0.00  1.0  0.0  1.5  1.5                6.61   \n",
       "1   0.200   0.400  0.0  0.40  1.0  0.0  1.5  0.0                3.62   \n",
       "2   0.000   1.000  0.0  0.00  1.0  0.0  3.0  0.0                3.62   \n",
       "3   0.000   1.000  0.0  0.00  1.0  0.0  3.0  0.0                5.44   \n",
       "4   0.000   1.000  0.0  0.00  1.0  0.0  3.0  0.0                6.61   \n",
       "..    ...     ...  ...   ...  ...  ...  ...  ...                 ...   \n",
       "73  0.000   1.000  0.0  0.00  1.0  0.0  1.5  0.0                3.62   \n",
       "74  0.255   0.595  0.0  0.15  1.0  0.0  3.0  0.0                3.62   \n",
       "75  0.850   0.000  0.0  0.15  1.0  0.0  3.0  0.0                3.62   \n",
       "76  0.000   0.000  0.0  1.00  1.0  0.0  0.0  3.0                3.62   \n",
       "77  0.000   0.000  0.0  1.00  1.0  0.0  0.0  3.0                3.62   \n",
       "\n",
       "    ETL Bandgap(eV)  ETL HOMO(eV)  ele Molecular Weight  glass Work function  \\\n",
       "0              0.65         5.521             107.86800                 4.50   \n",
       "1              2.68         1.367             107.86800                 4.50   \n",
       "2              2.68         1.367             107.86800                 4.50   \n",
       "3              0.72         0.840             107.86800                 4.50   \n",
       "4              0.65         5.521             107.86800                 4.50   \n",
       "..              ...           ...                   ...                  ...   \n",
       "73             2.68         1.367             196.96657                 4.50   \n",
       "74             2.68         1.367             107.86800                 4.50   \n",
       "75             2.68         1.367             107.86800                 4.50   \n",
       "76             2.68         1.367             107.86800                 4.57   \n",
       "77             2.68         1.367             107.86800                 4.50   \n",
       "\n",
       "      PCE  \n",
       "0   20.50  \n",
       "1   20.10  \n",
       "2   19.04  \n",
       "3   18.82  \n",
       "4   18.34  \n",
       "..    ...  \n",
       "73   8.29  \n",
       "74  17.60  \n",
       "75  13.90  \n",
       "76   7.93  \n",
       "77   3.90  \n",
       "\n",
       "[78 rows x 14 columns]"
      ]
     },
     "execution_count": 3,
     "metadata": {},
     "output_type": "execute_result"
    }
   ],
   "source": [
    "data"
   ]
  },
  {
   "cell_type": "code",
   "execution_count": 4,
   "id": "c321c852-560a-44f0-a505-d4b34c43ff7e",
   "metadata": {},
   "outputs": [],
   "source": [
    "# from sklearn.model_selection import train_test_split\n",
    "\n",
    "# X_train, X_val, y_train, y_val = train_test_split(X, y, random_state=49)\n",
    "\n",
    "#读取原数据集的特征和目标值\n",
    "X = data.values[:, :-1]\n",
    "y = data.values[:, -1]\n",
    "X_train, X_test, y_train, y_test=train_test_split(X, y, test_size=0.2, random_state=0)\n",
    "\n",
    "for i in range(X_train.shape[1]):\n",
    "    X_train[:, [i]] = preprocessing.MinMaxScaler().fit_transform(X_train[:, [i]])\n",
    "\n",
    "for i in range(X_test.shape[1]):\n",
    "    X_test[:, [i]] = preprocessing.MinMaxScaler().fit_transform(X_test[:, [i]])"
   ]
  },
  {
   "cell_type": "code",
   "execution_count": 5,
   "id": "8f403826-af21-483c-b81c-40bb97ae5edb",
   "metadata": {},
   "outputs": [
    {
     "data": {
      "text/plain": [
       "XGBRegressor(base_score=0.5, booster='gbtree', colsample_bylevel=1,\n",
       "             colsample_bynode=1, colsample_bytree=1, enable_categorical=False,\n",
       "             gamma=0, gpu_id=-1, importance_type=None,\n",
       "             interaction_constraints='', learning_rate=0.300000012,\n",
       "             max_delta_step=0, max_depth=6, min_child_weight=1, missing=nan,\n",
       "             monotone_constraints='()', n_estimators=100, n_jobs=8,\n",
       "             num_parallel_tree=1, predictor='auto', random_state=42,\n",
       "             reg_alpha=0, reg_lambda=1, scale_pos_weight=1, subsample=1,\n",
       "             tree_method='exact', validate_parameters=1, verbosity=None)"
      ]
     },
     "execution_count": 5,
     "metadata": {},
     "output_type": "execute_result"
    }
   ],
   "source": [
    "import xgboost\n",
    "xgb_reg = xgboost.XGBRegressor(random_state=42)\n",
    "xgb_reg.fit(X_train, y_train)"
   ]
  },
  {
   "cell_type": "code",
   "execution_count": 6,
   "id": "0c5ec616-f1d2-43f4-af7e-97a52ee8473b",
   "metadata": {},
   "outputs": [
    {
     "name": "stdout",
     "output_type": "stream",
     "text": [
      "Validation MSE: 33.59897219707606\n"
     ]
    }
   ],
   "source": [
    "from sklearn.metrics import mean_squared_error\n",
    "\n",
    "y_pred = xgb_reg.predict(X_test)\n",
    "val_error = mean_squared_error(y_test, y_pred) \n",
    "print(\"Validation MSE:\", val_error)    "
   ]
  },
  {
   "cell_type": "code",
   "execution_count": 7,
   "id": "a6f87651-de03-42bd-9d06-37bbf1e72a73",
   "metadata": {},
   "outputs": [
    {
     "data": {
      "image/png": "[encoded data removed]",
      "text/plain": [
       "<Figure size 432x288 with 1 Axes>"
      ]
     },
     "metadata": {
      "needs_background": "light"
     },
     "output_type": "display_data"
    }
   ],
   "source": [
    "#plot图\n",
    "plt.yticks(fontproperties = 'Times New Roman', size = 14)\n",
    "plt.xticks(fontproperties = 'Times New Roman', size = 14)\n",
    "plt.rcParams['font.sans-serif'] = 'Roman'\n",
    "plt.rcParams['xtick.direction'] = 'in'\n",
    "plt.rcParams['ytick.direction'] = 'in'\n",
    "plt.plot(y_test, y_test, label='Real Data')\n",
    "plt.scatter(y_test, y_pred, label='Predict', c='r')\n",
    "ax=plt.gca()\n",
    "ax.spines['bottom'].set_linewidth(2);###设置底部坐标轴的粗细\n",
    "ax.spines['left'].set_linewidth(2);####设置左边坐标轴的粗细\n",
    "ax.spines['right'].set_linewidth(2);###设置右边坐标轴的粗细\n",
    "ax.spines['top'].set_linewidth(2)\n",
    "\n",
    "plt.tick_params(width=2)\n",
    "ax.xaxis.set_tick_params(labelsize=24)\n",
    "plt.tick_params(which='major',length=8)\n",
    "plt.tick_params(which='minor',length=4,width=2)\n",
    "ax.yaxis.set_tick_params(labelsize=24)\n",
    "xminorLocator   = MultipleLocator(1000)\n",
    "yminorLocator   = MultipleLocator(1000)\n",
    "ax.xaxis.set_minor_locator(xminorLocator)\n",
    "ax.yaxis.set_minor_locator(yminorLocator)\n",
    "plt.minorticks_on()\n",
    "plt.show()"
   ]
  },
  {
   "cell_type": "markdown",
   "id": "23e1ac20-ecd4-4cf6-bcb3-b6d9d0df20fc",
   "metadata": {},
   "source": [
    "# voting"
   ]
  },
  {
   "cell_type": "markdown",
   "id": "24d42e58-acb7-46fd-bf15-5a1f59b33a64",
   "metadata": {},
   "source": [
    "# 创建模型\n",
    "分别创建四个基本模型：随机森林分类器，极端随机树(Extra-Trees)分类器，支持向量机分类器和多层感知机分类器。"
   ]
  },
  {
   "cell_type": "code",
   "execution_count": 15,
   "id": "44ab947a-db3f-46f3-a751-4f4216e5c208",
   "metadata": {},
   "outputs": [],
   "source": [
    "from sklearn.svm import LinearSVR\n",
    "from sklearn import ensemble\n",
    "from sklearn.neural_network import MLPRegressor\n",
    "\n",
    "random_forest_clf = RandomForestRegressor(n_estimators=100, random_state=42)  \n",
    "extra_trees_clf = ExtraTreesRegressor(n_estimators=100, random_state=42)\n",
    "svm_clf = LinearSVR(max_iter=100, tol=20, random_state=42)\n",
    "mlp_clf = MLPRegressor(random_state=42)"
   ]
  },
  {
   "cell_type": "code",
   "execution_count": 16,
   "id": "bdeccdd2-a5b8-4e07-8167-e057dce3aad8",
   "metadata": {},
   "outputs": [
    {
     "name": "stdout",
     "output_type": "stream",
     "text": [
      "Training the RandomForestRegressor(random_state=42)\n",
      "Training the ExtraTreesRegressor(random_state=42)\n",
      "Training the LinearSVR(max_iter=100, random_state=42, tol=20)\n",
      "Training the MLPRegressor(random_state=42)\n"
     ]
    },
    {
     "name": "stderr",
     "output_type": "stream",
     "text": [
      "C:\\Users\\Administrator\\AppData\\Roaming\\Python\\Python37\\site-packages\\sklearn\\neural_network\\_multilayer_perceptron.py:617: ConvergenceWarning: Stochastic Optimizer: Maximum iterations (200) reached and the optimization hasn't converged yet.\n",
      "  % self.max_iter, ConvergenceWarning)\n"
     ]
    }
   ],
   "source": [
    "estimators = [random_forest_clf, extra_trees_clf, svm_clf, mlp_clf]\n",
    "for estimator in estimators:\n",
    "    print(\"Training the\", estimator)\n",
    "    estimator.fit(X_train, y_train)"
   ]
  },
  {
   "cell_type": "code",
   "execution_count": 17,
   "id": "c012958b-b22d-4243-88a7-3aab29308440",
   "metadata": {},
   "outputs": [
    {
     "data": {
      "text/plain": [
       "[0.05934399485072284,\n",
       " 0.1426390340917133,\n",
       " -0.9640352026663264,\n",
       " 0.06339253686392676]"
      ]
     },
     "execution_count": 17,
     "metadata": {},
     "output_type": "execute_result"
    }
   ],
   "source": [
    "[estimator.score(X_test, y_test) for estimator in estimators]"
   ]
  },
  {
   "cell_type": "code",
   "execution_count": 19,
   "id": "ed0c7871-cfb4-411e-87fb-7c683094dd38",
   "metadata": {},
   "outputs": [],
   "source": [
    "from sklearn.ensemble import VotingRegressor\n",
    "\n",
    "named_estimators = [\n",
    "    (\"random_forest_clf\", random_forest_clf),\n",
    "    (\"extra_trees_clf\", extra_trees_clf),\n",
    "    (\"svm_clf\", svm_clf),\n",
    "    (\"mlp_clf\", mlp_clf),\n",
    "]"
   ]
  },
  {
   "cell_type": "code",
   "execution_count": 20,
   "id": "2f7cfe96-3356-4df0-b367-02d48b220af7",
   "metadata": {},
   "outputs": [],
   "source": [
    "voting_clf = VotingRegressor(named_estimators)"
   ]
  },
  {
   "cell_type": "code",
   "execution_count": 21,
   "id": "41747538-550b-4a2d-8ed3-da4eee8e8186",
   "metadata": {},
   "outputs": [
    {
     "name": "stderr",
     "output_type": "stream",
     "text": [
      "C:\\Users\\Administrator\\AppData\\Roaming\\Python\\Python37\\site-packages\\sklearn\\neural_network\\_multilayer_perceptron.py:617: ConvergenceWarning: Stochastic Optimizer: Maximum iterations (200) reached and the optimization hasn't converged yet.\n",
      "  % self.max_iter, ConvergenceWarning)\n"
     ]
    },
    {
     "data": {
      "text/plain": [
       "VotingRegressor(estimators=[('random_forest_clf',\n",
       "                             RandomForestRegressor(random_state=42)),\n",
       "                            ('extra_trees_clf',\n",
       "                             ExtraTreesRegressor(random_state=42)),\n",
       "                            ('svm_clf',\n",
       "                             LinearSVR(max_iter=100, random_state=42, tol=20)),\n",
       "                            ('mlp_clf', MLPRegressor(random_state=42))])"
      ]
     },
     "execution_count": 21,
     "metadata": {},
     "output_type": "execute_result"
    }
   ],
   "source": [
    "voting_clf.fit(X_train, y_train)"
   ]
  },
  {
   "cell_type": "code",
   "execution_count": 22,
   "id": "66467dbd-83bf-44e7-b383-e8b0a842dae0",
   "metadata": {},
   "outputs": [
    {
     "data": {
      "text/plain": [
       "0.06594529152293993"
      ]
     },
     "execution_count": 22,
     "metadata": {},
     "output_type": "execute_result"
    }
   ],
   "source": [
    "voting_clf.score(X_test, y_test)"
   ]
  },
  {
   "cell_type": "markdown",
   "id": "c29dd81e-cb0e-4aeb-ae6f-42a4eca6cebe",
   "metadata": {},
   "source": [
    "# SVM"
   ]
  },
  {
   "cell_type": "code",
   "execution_count": 23,
   "id": "a6983e73-c66f-4e7d-8ac4-2ef8dfe73854",
   "metadata": {},
   "outputs": [],
   "source": [
    "svm_clf = LinearSVR(max_iter=100, tol=20, random_state=42)"
   ]
  },
  {
   "cell_type": "code",
   "execution_count": 26,
   "id": "409b3f03-8e71-4ef7-b193-6425fe9fcdb0",
   "metadata": {},
   "outputs": [
    {
     "name": "stdout",
     "output_type": "stream",
     "text": [
      "R2: 0.6569024048614149\n",
      "RMSE: 7.101921475226348\n",
      "r: (0.4914092203361452, 0.05322032009597569)\n",
      "MAE: 5.884949427014455\n",
      "R2b: -0.9640352026663264\n",
      "MSE: 50.43728864028118\n"
     ]
    },
    {
     "data": {
      "image/png": "[encoded data removed]",
      "text/plain": [
       "<Figure size 432x288 with 1 Axes>"
      ]
     },
     "metadata": {
      "needs_background": "light"
     },
     "output_type": "display_data"
    }
   ],
   "source": [
    "svm_clf.fit(X_train, y_train)\n",
    "y_pred=svm_clf.predict(X_test)\n",
    "mse = mean_squared_error(y_test, y_pred)\n",
    "rmse = mse ** (1/2)\n",
    "sse = np.sum((y_test - y_pred) ** 2)\n",
    "sst = np.sum((y_test - np.mean(X_test)) ** 2)\n",
    "R2= 1 - sse / sst\n",
    "\n",
    "from sklearn.metrics import mean_absolute_error\n",
    "MAE = mean_absolute_error(y_test, y_pred)\n",
    "print(\"R2:\",R2)\n",
    "print(\"RMSE:\",rmse)\n",
    "print(\"r:\",pearsonr(y_test, y_pred))\n",
    "print(\"MAE:\",MAE)\n",
    "\n",
    "\n",
    "from sklearn.metrics import r2_score\n",
    "from sklearn.metrics import mean_squared_error\n",
    "R2b = r2_score(y_test, y_pred)\n",
    "MSE = mean_squared_error(y_test, y_pred)\n",
    "print(\"R2b:\",R2b)\n",
    "print(\"MSE:\",MSE)\n",
    "\n",
    "#plot图\n",
    "plt.yticks(fontproperties = 'Times New Roman', size = 14)\n",
    "plt.xticks(fontproperties = 'Times New Roman', size = 14)\n",
    "plt.rcParams['font.sans-serif'] = 'Roman'\n",
    "plt.rcParams['xtick.direction'] = 'in'\n",
    "plt.rcParams['ytick.direction'] = 'in'\n",
    "plt.plot(y_test, y_test, label='Real Data')\n",
    "plt.scatter(y_test, y_pred, label='Predict', c='r')\n",
    "ax=plt.gca()\n",
    "ax.spines['bottom'].set_linewidth(2);###设置底部坐标轴的粗细\n",
    "ax.spines['left'].set_linewidth(2);####设置左边坐标轴的粗细\n",
    "ax.spines['right'].set_linewidth(2);###设置右边坐标轴的粗细\n",
    "ax.spines['top'].set_linewidth(2)\n",
    "\n",
    "plt.tick_params(width=2)\n",
    "ax.xaxis.set_tick_params(labelsize=24)\n",
    "plt.tick_params(which='major',length=8)\n",
    "plt.tick_params(which='minor',length=4,width=2)\n",
    "ax.yaxis.set_tick_params(labelsize=24)\n",
    "xminorLocator   = MultipleLocator(1000)\n",
    "yminorLocator   = MultipleLocator(1000)\n",
    "ax.xaxis.set_minor_locator(xminorLocator)\n",
    "ax.yaxis.set_minor_locator(yminorLocator)\n",
    "plt.minorticks_on()\n",
    "plt.show()"
   ]
  },
  {
   "cell_type": "code",
   "execution_count": null,
   "id": "aca29293-cc1a-48db-8d2c-235af83a9685",
   "metadata": {},
   "outputs": [],
   "source": []
  }
 ],
 "metadata": {
  "kernelspec": {
   "display_name": "Python [conda env:py37]",
   "language": "python",
   "name": "conda-env-py37-py"
  },
  "language_info": {
   "codemirror_mode": {
    "name": "ipython",
    "version": 3
   },
   "file_extension": ".py",
   "mimetype": "text/x-python",
   "name": "python",
   "nbconvert_exporter": "python",
   "pygments_lexer": "ipython3",
   "version": "3.7.0"
  }
 },
 "nbformat": 4,
 "nbformat_minor": 5
}
