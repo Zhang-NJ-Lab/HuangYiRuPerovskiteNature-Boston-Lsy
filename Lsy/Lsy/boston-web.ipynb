{
 "cells": [
  {
   "cell_type": "code",
   "execution_count": 1,
   "id": "e2a11940-8041-46af-a4b4-0240945035d2",
   "metadata": {},
   "outputs": [
    {
     "name": "stdout",
     "output_type": "stream",
     "text": [
      "(404, 13) (102, 13) (404,) (102,)\n"
     ]
    }
   ],
   "source": [
    "import time\n",
    "from sklearn.datasets import load_boston\n",
    "from sklearn.model_selection import train_test_split\n",
    "from sklearn.linear_model import LinearRegression\n",
    "\n",
    "boston=load_boston()\n",
    "x=boston.data\n",
    "y=boston.target\n",
    "x_train,x_test,y_train,y_test=train_test_split(x,y,test_size=0.2,random_state=3)\n",
    "\n",
    "print(x_train.shape,x_test.shape,y_train.shape,y_test.shape)\n",
    "\n"
   ]
  },
  {
   "cell_type": "code",
   "execution_count": 2,
   "id": "1a9cf0d4-e3a6-4099-a8f1-97c764d44d90",
   "metadata": {},
   "outputs": [
    {
     "name": "stdout",
     "output_type": "stream",
     "text": [
      "0.09324765205383301 0.7239410298290111 0.7952617563243862\n"
     ]
    }
   ],
   "source": [
    "model=LinearRegression()\n",
    "start=time.time()\n",
    "model.fit(x_train,y_train)\n",
    "train_score=model.score(x_train,y_train)\n",
    "cv_score=model.score(x_test,y_test)\n",
    "print(time.time()-start,train_score,cv_score)\n"
   ]
  },
  {
   "cell_type": "code",
   "execution_count": 4,
   "id": "7390b067-d534-4b1d-a2a4-8778ec298735",
   "metadata": {},
   "outputs": [
    {
     "data": {
      "image/png": "[encoded data removed]",
      "text/plain": [
       "<Figure size 432x288 with 1 Axes>"
      ]
     },
     "metadata": {
      "needs_background": "light"
     },
     "output_type": "display_data"
    }
   ],
   "source": [
    "import matplotlib.pyplot as plot\n",
    "import seaborn as sns\n",
    "import matplotlib.pyplot as plt\n",
    "from sklearn import svm\n",
    "import numpy as np\n",
    "import pandas as pd\n",
    "from sklearn import preprocessing\n",
    "from pandas import DataFrame\n",
    "from sklearn.ensemble import RandomForestClassifier\n",
    "from sklearn.ensemble import ExtraTreesRegressor\n",
    "from sklearn.linear_model import LogisticRegression\n",
    "from sklearn.gaussian_process import GaussianProcessRegressor\n",
    "from sklearn.gaussian_process.kernels import RBF\n",
    "from sklearn.model_selection import KFold\n",
    "from sklearn.metrics import roc_curve\n",
    "from sklearn.metrics import confusion_matrix\n",
    "from gplearn import genetic\n",
    "from gplearn.genetic import SymbolicTransformer\n",
    "from sklearn.ensemble import RandomForestRegressor\n",
    "from sklearn.metrics import mean_squared_error\n",
    "from scipy.stats import pearsonr\n",
    "from matplotlib.ticker import MultipleLocator, FormatStrFormatter\n",
    "from sklearn.metrics import r2_score\n",
    "from sklearn.model_selection import cross_val_score\n",
    "from sklearn.model_selection import train_test_split\n",
    "from sklearn.preprocessing import StandardScaler\n",
    "from imblearn.over_sampling import RandomOverSampler, SMOTE\n",
    "from collections import Counter\n",
    "from sklearn.model_selection import train_test_split\n",
    "import sklearn.ensemble as ensemble  # ensemble learning: 集成学习\n",
    "from sklearn.model_selection import GridSearchCV\n",
    "import sklearn.metrics as metrics\n",
    "import matplotlib.pyplot as plt\n",
    "y_prediction=model.predict(x_test)\n",
    "#plot图\n",
    "plt.yticks(fontproperties = 'Times New Roman', size = 14)\n",
    "plt.xticks(fontproperties = 'Times New Roman', size = 14)\n",
    "plt.rcParams['font.sans-serif'] = 'Roman'\n",
    "plt.rcParams['xtick.direction'] = 'in'\n",
    "plt.rcParams['ytick.direction'] = 'in'\n",
    "plt.plot(y_test, y_test, label='Real Data')\n",
    "plt.scatter(y_test, y_prediction, label='Predict', c='r')\n",
    "ax=plt.gca()\n",
    "ax.spines['bottom'].set_linewidth(2);###设置底部坐标轴的粗细\n",
    "ax.spines['left'].set_linewidth(2);####设置左边坐标轴的粗细\n",
    "ax.spines['right'].set_linewidth(2);###设置右边坐标轴的粗细\n",
    "ax.spines['top'].set_linewidth(2)\n",
    "\n",
    "plt.tick_params(width=2)\n",
    "ax.xaxis.set_tick_params(labelsize=24)\n",
    "plt.tick_params(which='major',length=8)\n",
    "plt.tick_params(which='minor',length=4,width=2)\n",
    "ax.yaxis.set_tick_params(labelsize=24)\n",
    "xminorLocator   = MultipleLocator(1000)\n",
    "yminorLocator   = MultipleLocator(1000)\n",
    "ax.xaxis.set_minor_locator(xminorLocator)\n",
    "ax.yaxis.set_minor_locator(yminorLocator)\n",
    "plt.minorticks_on()\n",
    "plt.show()"
   ]
  },
  {
   "cell_type": "code",
   "execution_count": null,
   "id": "4778adae-edc9-412d-bddb-2c2713c623c2",
   "metadata": {},
   "outputs": [],
   "source": []
  }
 ],
 "metadata": {
  "kernelspec": {
   "display_name": "Python [conda env:py37]",
   "language": "python",
   "name": "conda-env-py37-py"
  },
  "language_info": {
   "codemirror_mode": {
    "name": "ipython",
    "version": 3
   },
   "file_extension": ".py",
   "mimetype": "text/x-python",
   "name": "python",
   "nbconvert_exporter": "python",
   "pygments_lexer": "ipython3",
   "version": "3.7.0"
  }
 },
 "nbformat": 4,
 "nbformat_minor": 5
}
